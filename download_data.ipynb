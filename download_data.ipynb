{
 "cells": [
  {
   "cell_type": "code",
   "execution_count": 1,
   "id": "637dab19-54ef-4ab2-8941-586c5bae94b4",
   "metadata": {},
   "outputs": [],
   "source": [
    "import urllib.request\n",
    "import os.path\n",
    "from os import path\n",
    "from zipfile import ZipFile"
   ]
  },
  {
   "cell_type": "code",
   "execution_count": 2,
   "id": "d0914322-f31d-4606-8423-45550105b5be",
   "metadata": {},
   "outputs": [],
   "source": [
    "def download_data():\n",
    "    if path.isfile('vegetable-image-dataset.zip') is False:\n",
    "        url = 'https://www.kaggle.com/api/v1/datasets/download/misrakahmed/vegetable-image-dataset'\n",
    "        filename = 'vegetable-image-dataset.zip'\n",
    "        urllib.request.urlretrieve(url, filename)\n",
    "    \n",
    "    if path.isdir('vegetable-image-dataset') is False:\n",
    "        with ZipFile('vegetable-image-dataset.zip', 'r') as zip:\n",
    "            zip.extractall()\n",
    "\n",
    "download_data()"
   ]
  },
  {
   "cell_type": "code",
   "execution_count": null,
   "id": "0bbc003e-229f-442a-914c-6239250420f8",
   "metadata": {},
   "outputs": [],
   "source": []
  }
 ],
 "metadata": {
  "kernelspec": {
   "display_name": "Python 3 (ipykernel)",
   "language": "python",
   "name": "python3"
  },
  "language_info": {
   "codemirror_mode": {
    "name": "ipython",
    "version": 3
   },
   "file_extension": ".py",
   "mimetype": "text/x-python",
   "name": "python",
   "nbconvert_exporter": "python",
   "pygments_lexer": "ipython3",
   "version": "3.12.3"
  }
 },
 "nbformat": 4,
 "nbformat_minor": 5
}
